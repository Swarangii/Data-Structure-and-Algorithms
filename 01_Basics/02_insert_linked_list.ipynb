{
 "cells": [
  {
   "cell_type": "code",
   "execution_count": 22,
   "id": "2600f9a0",
   "metadata": {},
   "outputs": [
    {
     "name": "stdout",
     "output_type": "stream",
     "text": [
      "10 20 30 40 "
     ]
    }
   ],
   "source": [
    "# Node\n",
    "class Node:\n",
    "  def __init__(self,value):\n",
    "    self.data = value\n",
    "    self.next = None\n",
    "\n",
    "# Printing \n",
    "def print_linked_list(head):\n",
    "  current = head\n",
    "  while current is not None:\n",
    "    print(current.data, end=\" \")\n",
    "    current = current.next\n",
    "\n",
    "# Creating Linked List\n",
    "head = Node(10)\n",
    "head.next = Node(20)\n",
    "head.next.next = Node(30)\n",
    "head.next.next.next = Node(40)\n",
    "\n",
    "print_linked_list(head)"
   ]
  },
  {
   "cell_type": "markdown",
   "id": "f8ffce1d",
   "metadata": {},
   "source": [
    "## Insert Element At the Beginning"
   ]
  },
  {
   "cell_type": "code",
   "execution_count": 23,
   "id": "ebfc8431",
   "metadata": {},
   "outputs": [
    {
     "name": "stdout",
     "output_type": "stream",
     "text": [
      "500 10 20 30 40 "
     ]
    }
   ],
   "source": [
    "def insert_at_start(head,value):\n",
    "  new_node = Node(value)\n",
    "\n",
    "  new_node.next = head\n",
    "  return new_node\n",
    "\n",
    "head = insert_at_start(head,500)\n",
    "print_linked_list(head)"
   ]
  },
  {
   "cell_type": "markdown",
   "id": "1b54f2b4",
   "metadata": {},
   "source": [
    "## Insert Element At the End of Linked List"
   ]
  },
  {
   "cell_type": "code",
   "execution_count": 24,
   "id": "2318e77d",
   "metadata": {},
   "outputs": [
    {
     "name": "stdout",
     "output_type": "stream",
     "text": [
      "500 10 20 30 40 78 "
     ]
    }
   ],
   "source": [
    "def insert_at_end(head,value):\n",
    "  new_node = Node(value)\n",
    "\n",
    "  # Base Condition - if Linked List is empty than new_node is the last element\n",
    "  if head is None:\n",
    "    return new_node\n",
    "  \n",
    "  # Logic - Iterating to the end and inserting new_node\n",
    "  current = head\n",
    "  while current.next is not None:\n",
    "    current = current.next\n",
    "\n",
    "  current.next = new_node\n",
    "\n",
    "  return head\n",
    "\n",
    "head = insert_at_end(head,78)\n",
    "print_linked_list(head)"
   ]
  },
  {
   "cell_type": "markdown",
   "id": "a0847759",
   "metadata": {},
   "source": [
    "## Insert Element at Specific Position"
   ]
  },
  {
   "cell_type": "code",
   "execution_count": 26,
   "id": "cdf3cd9f",
   "metadata": {},
   "outputs": [
    {
     "name": "stdout",
     "output_type": "stream",
     "text": [
      "500 10 7 7 20 30 40 78 "
     ]
    }
   ],
   "source": [
    "def insert_at_position(head,value,position):\n",
    "  new_node = Node(value)\n",
    "\n",
    "  # Base Condition - if position is 1\n",
    "  if position == 1:\n",
    "    new_node.next = head\n",
    "    return new_node\n",
    "\n",
    "  # Iterating to the given position -- \n",
    "  current = head \n",
    "  for i in range(1,position - 1):\n",
    "    if current is None:\n",
    "      print(\"Invalid Position\")\n",
    "      return head\n",
    "    \n",
    "    current = current.next\n",
    "    if current is None:\n",
    "      print(\"Invalid Position\")\n",
    "      return head\n",
    "    \n",
    "    new_node.next = current.next\n",
    "    current.next = new_node\n",
    "\n",
    "    return head\n",
    "  \n",
    "head = insert_at_position(head,7,4)\n",
    "print_linked_list(head)"
   ]
  },
  {
   "cell_type": "code",
   "execution_count": null,
   "id": "7e14fc88",
   "metadata": {},
   "outputs": [],
   "source": []
  }
 ],
 "metadata": {
  "kernelspec": {
   "display_name": "Python 3 (ipykernel)",
   "language": "python",
   "name": "python3"
  },
  "language_info": {
   "codemirror_mode": {
    "name": "ipython",
    "version": 3
   },
   "file_extension": ".py",
   "mimetype": "text/x-python",
   "name": "python",
   "nbconvert_exporter": "python",
   "pygments_lexer": "ipython3",
   "version": "3.11.5"
  }
 },
 "nbformat": 4,
 "nbformat_minor": 5
}

{
 "cells": [
  {
   "cell_type": "markdown",
   "id": "36adb8ef",
   "metadata": {},
   "source": [
    "## Create a Node"
   ]
  },
  {
   "cell_type": "code",
   "execution_count": 20,
   "id": "d638744c",
   "metadata": {},
   "outputs": [],
   "source": [
    "class Node:\n",
    "    def __init__(self,value):\n",
    "        self.data = value\n",
    "        self.next = None"
   ]
  },
  {
   "cell_type": "markdown",
   "id": "e6d5d708",
   "metadata": {},
   "source": [
    "## Create a Linked List"
   ]
  },
  {
   "cell_type": "code",
   "execution_count": 21,
   "id": "d9451fef",
   "metadata": {},
   "outputs": [],
   "source": [
    "class LinkedList:\n",
    "    def __init__(self):\n",
    "        self.head = None\n",
    "\n",
    "    # Adding Node to LinkedList\n",
    "    def add_node(self,value):\n",
    "        new_node = Node(value)\n",
    "\n",
    "        # creating head node\n",
    "        if self.head is None:\n",
    "            self.head = new_node\n",
    "\n",
    "        else:\n",
    "            current = self.head\n",
    "            while current.next is not None:\n",
    "                current = current.next\n",
    "            current.next = new_node"
   ]
  },
  {
   "cell_type": "code",
   "execution_count": 22,
   "id": "fb4672bf",
   "metadata": {},
   "outputs": [],
   "source": [
    "l1 = LinkedList()\n",
    "\n",
    "l1.add_node(value=10)\n",
    "l1.add_node(value=15)\n",
    "l1.add_node(value=20)"
   ]
  },
  {
   "cell_type": "code",
   "execution_count": 23,
   "id": "863ab17a",
   "metadata": {},
   "outputs": [
    {
     "data": {
      "text/plain": [
       "<__main__.Node at 0x1efbd02d290>"
      ]
     },
     "execution_count": 23,
     "metadata": {},
     "output_type": "execute_result"
    }
   ],
   "source": [
    "l1.head"
   ]
  },
  {
   "cell_type": "code",
   "execution_count": 24,
   "id": "fcaa6a5b",
   "metadata": {},
   "outputs": [
    {
     "data": {
      "text/plain": [
       "10"
      ]
     },
     "execution_count": 24,
     "metadata": {},
     "output_type": "execute_result"
    }
   ],
   "source": [
    "l1.head.data"
   ]
  },
  {
   "cell_type": "code",
   "execution_count": 25,
   "id": "847f7ab5",
   "metadata": {},
   "outputs": [
    {
     "name": "stdout",
     "output_type": "stream",
     "text": [
      "15\n"
     ]
    }
   ],
   "source": [
    "l1.head.next\n",
    "\n",
    "print(l1.head.next.data)"
   ]
  },
  {
   "cell_type": "markdown",
   "id": "5cf65a9f",
   "metadata": {},
   "source": [
    "## Display Linked List"
   ]
  },
  {
   "cell_type": "code",
   "execution_count": 27,
   "id": "4d1ae766",
   "metadata": {},
   "outputs": [],
   "source": [
    "# Iterative\n",
    "\n",
    "def print_linked_list(head):\n",
    "  current = head\n",
    "  while current is not None:\n",
    "    print(current.data)\n",
    "    current = current.next"
   ]
  },
  {
   "cell_type": "code",
   "execution_count": 28,
   "id": "c17267ba",
   "metadata": {},
   "outputs": [
    {
     "name": "stdout",
     "output_type": "stream",
     "text": [
      "10\n",
      "15\n",
      "20\n"
     ]
    }
   ],
   "source": [
    "print_linked_list(l1.head)"
   ]
  },
  {
   "cell_type": "code",
   "execution_count": 29,
   "id": "a5e1c536",
   "metadata": {},
   "outputs": [
    {
     "name": "stdout",
     "output_type": "stream",
     "text": [
      "10\n",
      "15\n",
      "20\n"
     ]
    }
   ],
   "source": [
    "# Recursive\n",
    "\n",
    "def print_recursively(head):\n",
    "\n",
    "  # base condition -- \n",
    "  if head is None:\n",
    "    return\n",
    "  \n",
    "  # logic --\n",
    "  print(head.data)\n",
    "\n",
    "  # recursive call --\n",
    "  print_recursively(head.next)\n",
    "\n",
    "print_recursively(l1.head)"
   ]
  },
  {
   "cell_type": "markdown",
   "id": "25791b82",
   "metadata": {},
   "source": [
    "## Find Length of a Linked List"
   ]
  },
  {
   "cell_type": "code",
   "execution_count": 30,
   "id": "bf34930d",
   "metadata": {},
   "outputs": [],
   "source": [
    "# Create another linked list\n",
    "\n",
    "l2 = LinkedList()\n",
    "\n",
    "for i in range(10):\n",
    "  l2.add_node(i*2)\n",
    "\n"
   ]
  },
  {
   "cell_type": "code",
   "execution_count": 31,
   "id": "cdd05c2d",
   "metadata": {},
   "outputs": [
    {
     "name": "stdout",
     "output_type": "stream",
     "text": [
      "0\n",
      "2\n",
      "4\n",
      "6\n",
      "8\n",
      "10\n",
      "12\n",
      "14\n",
      "16\n",
      "18\n"
     ]
    }
   ],
   "source": [
    "# Check the l2 Linked List\n",
    "\n",
    "print_linked_list(l2.head)"
   ]
  },
  {
   "cell_type": "code",
   "execution_count": 32,
   "id": "f8295590",
   "metadata": {},
   "outputs": [],
   "source": [
    "# Find the length of l2 linked list\n",
    "\n",
    "# Iteratively\n",
    "\n",
    "def find_length(head):\n",
    "  length = 0\n",
    "\n",
    "  while head is not None:\n",
    "    length += 1\n",
    "    head = head.next\n",
    "\n",
    "  return length"
   ]
  },
  {
   "cell_type": "code",
   "execution_count": 33,
   "id": "05c6093f",
   "metadata": {},
   "outputs": [
    {
     "data": {
      "text/plain": [
       "10"
      ]
     },
     "execution_count": 33,
     "metadata": {},
     "output_type": "execute_result"
    }
   ],
   "source": [
    "find_length(l2.head)"
   ]
  },
  {
   "cell_type": "code",
   "execution_count": 34,
   "id": "34216415",
   "metadata": {},
   "outputs": [],
   "source": [
    "#  Recursively\n",
    "\n",
    "def find_lenghth_recursively(head):\n",
    "\n",
    "  # Base Condition --\n",
    "  if head is None:\n",
    "    return 0\n",
    "  \n",
    "  # Logic + Recursive call --\n",
    "  return 1 + find_lenghth_recursively(head.next)"
   ]
  },
  {
   "cell_type": "code",
   "execution_count": 35,
   "id": "745da9be",
   "metadata": {},
   "outputs": [
    {
     "data": {
      "text/plain": [
       "10"
      ]
     },
     "execution_count": 35,
     "metadata": {},
     "output_type": "execute_result"
    }
   ],
   "source": [
    "find_lenghth_recursively(l2.head)"
   ]
  }
 ],
 "metadata": {
  "kernelspec": {
   "display_name": "Python 3 (ipykernel)",
   "language": "python",
   "name": "python3"
  }
 },
 "nbformat": 4,
 "nbformat_minor": 5
}

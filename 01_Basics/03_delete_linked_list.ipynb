{
 "cells": [
  {
   "cell_type": "code",
   "execution_count": 12,
   "id": "97547586",
   "metadata": {},
   "outputs": [
    {
     "name": "stdout",
     "output_type": "stream",
     "text": [
      "10 20 30 40 90 "
     ]
    }
   ],
   "source": [
    "# Node\n",
    "class Node:\n",
    "  def __init__(self,value):\n",
    "    self.data = value\n",
    "    self.next = None\n",
    "\n",
    "# Printing \n",
    "def print_linked_list(head):\n",
    "  current = head\n",
    "  while current is not None:\n",
    "    print(current.data, end=\" \")\n",
    "    current = current.next\n",
    "\n",
    "# Creating Linked List\n",
    "head = Node(10)\n",
    "head.next = Node(20)\n",
    "head.next.next = Node(30)\n",
    "head.next.next.next = Node(40)\n",
    "head.next.next.next.next = Node(90)\n",
    "\n",
    "print_linked_list(head)"
   ]
  },
  {
   "cell_type": "markdown",
   "id": "4946fe94",
   "metadata": {},
   "source": [
    "## Delete at Start"
   ]
  },
  {
   "cell_type": "code",
   "execution_count": 5,
   "id": "cec11dd8",
   "metadata": {},
   "outputs": [
    {
     "name": "stdout",
     "output_type": "stream",
     "text": [
      "20 30 40 90 "
     ]
    }
   ],
   "source": [
    "def delete_at_start(head):\n",
    "  if head is None:\n",
    "    print(\"No element in Linked List\")\n",
    "    return None\n",
    "  new_head = head.next\n",
    "  head.next = None\n",
    "  return new_head\n",
    "\n",
    "head = delete_at_start(head)\n",
    "print_linked_list(head)"
   ]
  },
  {
   "cell_type": "markdown",
   "id": "74780c15",
   "metadata": {},
   "source": [
    "## Delete at End"
   ]
  },
  {
   "cell_type": "code",
   "execution_count": 6,
   "id": "84c071c6",
   "metadata": {},
   "outputs": [
    {
     "name": "stdout",
     "output_type": "stream",
     "text": [
      "20 30 40 "
     ]
    }
   ],
   "source": [
    "def delete_at_end(head):\n",
    "  # Base Condition --\n",
    "  if head is None:\n",
    "    print(\"No ELement in Linked List\")\n",
    "    return None\n",
    "  \n",
    "  if head.next is None:\n",
    "    return None\n",
    "  \n",
    "  # Logic --\n",
    "  current = head\n",
    "  while current.next.next is not None:\n",
    "    current = current.next\n",
    "  current.next = None\n",
    "\n",
    "  return head\n",
    "\n",
    "head = delete_at_end(head)\n",
    "print_linked_list(head)"
   ]
  },
  {
   "cell_type": "markdown",
   "id": "54424679",
   "metadata": {},
   "source": [
    "## Delete at Position || Delete Node"
   ]
  },
  {
   "cell_type": "code",
   "execution_count": null,
   "id": "ddf23e2d",
   "metadata": {},
   "outputs": [
    {
     "name": "stdout",
     "output_type": "stream",
     "text": [
      "10 30 40 90 "
     ]
    }
   ],
   "source": [
    "def delete_node(head,value):\n",
    "\n",
    "  # Base condition -- \n",
    "  if head is None:\n",
    "    print(\"No ELement in Linked List\")\n",
    "    return None\n",
    "  \n",
    "  if head.data == value:\n",
    "    new_head = head.next\n",
    "    head.next = None\n",
    "    return new_head\n",
    "  \n",
    "  # Logic -- \n",
    "  current = head\n",
    "  while current.next is not None and current.next.data != value:\n",
    "    current = current.next\n",
    "\n",
    "  if current.next is None:\n",
    "    print(\"Value not Found\")\n",
    "    return head\n",
    "  \n",
    "  temp = current.next\n",
    "  current.next = current.next.next\n",
    "  temp.next = None\n",
    "  return head\n",
    "\n",
    "head = delete_node(head,20)\n",
    "print_linked_list(head)"
   ]
  }
 ],
 "metadata": {
  "kernelspec": {
   "display_name": "Python 3 (ipykernel)",
   "language": "python",
   "name": "python3"
  },
  "language_info": {
   "codemirror_mode": {
    "name": "ipython",
    "version": 3
   },
   "file_extension": ".py",
   "mimetype": "text/x-python",
   "name": "python",
   "nbconvert_exporter": "python",
   "pygments_lexer": "ipython3",
   "version": "3.11.5"
  }
 },
 "nbformat": 4,
 "nbformat_minor": 5
}
